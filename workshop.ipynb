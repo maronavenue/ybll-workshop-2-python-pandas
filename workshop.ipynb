{
 "cells": [
  {
   "cell_type": "markdown",
   "metadata": {},
   "source": [
    "## Technical Workshop\n",
    "\n",
    "- Team up and apply the concepts that you have learned in pandas to access, manipulate and analyze data\n",
    "- Tinker around with the dataset to answer a series of questions\n",
    "- Save your group notebook and submit with the following format: `workshop_group_<#>.ipynb`\n",
    "- Duration: 1 hour"
   ]
  },
  {
   "cell_type": "markdown",
   "metadata": {},
   "source": [
    "### Olympics Agency\n",
    "\n",
    "You and your teammates are working in the Data Science department of a renowned Sports Agency that primarily focuses on the Olympics. Consultants and journalists reach out to your team for key insights to fulfill their upcoming prints and marketing stints.\n",
    "\n",
    "Thankfully you have access to the relevant dataset, and of course your newly acquired Python Pandas skills."
   ]
  },
  {
   "cell_type": "markdown",
   "metadata": {},
   "source": [
    "#### Available Datasets\n",
    "\n",
    "| **Dataset**      | **Notes**      |\n",
    "| ------------- | ------------- |\n",
    "| [olympics_bios.csv](data/olympics_bios.csv) | Contains basic biographical data of Olympians since 1960s |\n",
    "| [noc_regions.csv](data/noc_regions.csv) | Contains records of National Olympic Committees |\n",
    "| [olympics_results.csv](data/olympics_results.csv) | Contains all records of Olympic events and the corresponding results |"
   ]
  },
  {
   "cell_type": "code",
   "execution_count": 243,
   "metadata": {},
   "outputs": [],
   "source": [
    "import pandas as pd\n",
    "\n",
    "olympics_bios = pd.read_csv('./data/olympics_bios.csv')\n",
    "noc = pd.read_csv('./data/noc_regions.csv')\n",
    "olympics_results = pd.read_csv('./data/olympics_results.csv')"
   ]
  },
  {
   "cell_type": "markdown",
   "metadata": {},
   "source": [
    "##### Preview Olympics Biography dataset:"
   ]
  },
  {
   "cell_type": "code",
   "execution_count": 244,
   "metadata": {},
   "outputs": [
    {
     "data": {
      "text/html": [
       "<div>\n",
       "<style scoped>\n",
       "    .dataframe tbody tr th:only-of-type {\n",
       "        vertical-align: middle;\n",
       "    }\n",
       "\n",
       "    .dataframe tbody tr th {\n",
       "        vertical-align: top;\n",
       "    }\n",
       "\n",
       "    .dataframe thead th {\n",
       "        text-align: right;\n",
       "    }\n",
       "</style>\n",
       "<table border=\"1\" class=\"dataframe\">\n",
       "  <thead>\n",
       "    <tr style=\"text-align: right;\">\n",
       "      <th></th>\n",
       "      <th>athlete_id</th>\n",
       "      <th>name</th>\n",
       "      <th>born_date</th>\n",
       "      <th>born_city</th>\n",
       "      <th>born_region</th>\n",
       "      <th>born_country</th>\n",
       "      <th>NOC</th>\n",
       "      <th>height_cm</th>\n",
       "      <th>weight_kg</th>\n",
       "      <th>died_date</th>\n",
       "    </tr>\n",
       "  </thead>\n",
       "  <tbody>\n",
       "    <tr>\n",
       "      <th>45273</th>\n",
       "      <td>45617</td>\n",
       "      <td>André Teixeira</td>\n",
       "      <td>1974-04-24</td>\n",
       "      <td>Rio de Janeiro</td>\n",
       "      <td>Rio de Janeiro</td>\n",
       "      <td>BRA</td>\n",
       "      <td>Brazil</td>\n",
       "      <td>192.0</td>\n",
       "      <td>78.0</td>\n",
       "      <td>NaN</td>\n",
       "    </tr>\n",
       "    <tr>\n",
       "      <th>61225</th>\n",
       "      <td>61670</td>\n",
       "      <td>Burkhard Cordes</td>\n",
       "      <td>1939-05-15</td>\n",
       "      <td>Darmstadt</td>\n",
       "      <td>Hessen</td>\n",
       "      <td>GER</td>\n",
       "      <td>Brazil</td>\n",
       "      <td>177.0</td>\n",
       "      <td>75.0</td>\n",
       "      <td>NaN</td>\n",
       "    </tr>\n",
       "    <tr>\n",
       "      <th>96520</th>\n",
       "      <td>97297</td>\n",
       "      <td>Horst Schneider</td>\n",
       "      <td>1939-02-13</td>\n",
       "      <td>Lienz</td>\n",
       "      <td>Tirol</td>\n",
       "      <td>AUT</td>\n",
       "      <td>Austria</td>\n",
       "      <td>178.0</td>\n",
       "      <td>76.0</td>\n",
       "      <td>NaN</td>\n",
       "    </tr>\n",
       "    <tr>\n",
       "      <th>53047</th>\n",
       "      <td>53422</td>\n",
       "      <td>Les Nunn</td>\n",
       "      <td>1942-01-25</td>\n",
       "      <td>NaN</td>\n",
       "      <td>NaN</td>\n",
       "      <td>NaN</td>\n",
       "      <td>Australia</td>\n",
       "      <td>181.0</td>\n",
       "      <td>89.0</td>\n",
       "      <td>NaN</td>\n",
       "    </tr>\n",
       "    <tr>\n",
       "      <th>69956</th>\n",
       "      <td>70477</td>\n",
       "      <td>Herbert Schade</td>\n",
       "      <td>1922-05-26</td>\n",
       "      <td>Solingen</td>\n",
       "      <td>Nordrhein-Westfalen</td>\n",
       "      <td>GER</td>\n",
       "      <td>Germany</td>\n",
       "      <td>179.0</td>\n",
       "      <td>65.0</td>\n",
       "      <td>1994-03-01</td>\n",
       "    </tr>\n",
       "  </tbody>\n",
       "</table>\n",
       "</div>"
      ],
      "text/plain": [
       "       athlete_id             name   born_date       born_city  \\\n",
       "45273       45617   André Teixeira  1974-04-24  Rio de Janeiro   \n",
       "61225       61670  Burkhard Cordes  1939-05-15       Darmstadt   \n",
       "96520       97297  Horst Schneider  1939-02-13           Lienz   \n",
       "53047       53422         Les Nunn  1942-01-25             NaN   \n",
       "69956       70477   Herbert Schade  1922-05-26        Solingen   \n",
       "\n",
       "               born_region born_country        NOC  height_cm  weight_kg  \\\n",
       "45273       Rio de Janeiro          BRA     Brazil      192.0       78.0   \n",
       "61225               Hessen          GER     Brazil      177.0       75.0   \n",
       "96520                Tirol          AUT    Austria      178.0       76.0   \n",
       "53047                  NaN          NaN  Australia      181.0       89.0   \n",
       "69956  Nordrhein-Westfalen          GER    Germany      179.0       65.0   \n",
       "\n",
       "        died_date  \n",
       "45273         NaN  \n",
       "61225         NaN  \n",
       "96520         NaN  \n",
       "53047         NaN  \n",
       "69956  1994-03-01  "
      ]
     },
     "execution_count": 244,
     "metadata": {},
     "output_type": "execute_result"
    }
   ],
   "source": [
    "olympics_bios.sample(5)"
   ]
  },
  {
   "cell_type": "markdown",
   "metadata": {},
   "source": [
    "##### Preview NOC Region dataset:"
   ]
  },
  {
   "cell_type": "code",
   "execution_count": 245,
   "metadata": {},
   "outputs": [
    {
     "data": {
      "text/html": [
       "<div>\n",
       "<style scoped>\n",
       "    .dataframe tbody tr th:only-of-type {\n",
       "        vertical-align: middle;\n",
       "    }\n",
       "\n",
       "    .dataframe tbody tr th {\n",
       "        vertical-align: top;\n",
       "    }\n",
       "\n",
       "    .dataframe thead th {\n",
       "        text-align: right;\n",
       "    }\n",
       "</style>\n",
       "<table border=\"1\" class=\"dataframe\">\n",
       "  <thead>\n",
       "    <tr style=\"text-align: right;\">\n",
       "      <th></th>\n",
       "      <th>NOC</th>\n",
       "      <th>region</th>\n",
       "      <th>notes</th>\n",
       "    </tr>\n",
       "  </thead>\n",
       "  <tbody>\n",
       "    <tr>\n",
       "      <th>224</th>\n",
       "      <td>YAR</td>\n",
       "      <td>Yemen</td>\n",
       "      <td>North Yemen</td>\n",
       "    </tr>\n",
       "    <tr>\n",
       "      <th>184</th>\n",
       "      <td>SOM</td>\n",
       "      <td>Somalia</td>\n",
       "      <td>NaN</td>\n",
       "    </tr>\n",
       "    <tr>\n",
       "      <th>135</th>\n",
       "      <td>MLT</td>\n",
       "      <td>Malta</td>\n",
       "      <td>NaN</td>\n",
       "    </tr>\n",
       "    <tr>\n",
       "      <th>20</th>\n",
       "      <td>BEN</td>\n",
       "      <td>Benin</td>\n",
       "      <td>NaN</td>\n",
       "    </tr>\n",
       "    <tr>\n",
       "      <th>160</th>\n",
       "      <td>PLW</td>\n",
       "      <td>Palau</td>\n",
       "      <td>NaN</td>\n",
       "    </tr>\n",
       "  </tbody>\n",
       "</table>\n",
       "</div>"
      ],
      "text/plain": [
       "     NOC   region        notes\n",
       "224  YAR    Yemen  North Yemen\n",
       "184  SOM  Somalia          NaN\n",
       "135  MLT    Malta          NaN\n",
       "20   BEN    Benin          NaN\n",
       "160  PLW    Palau          NaN"
      ]
     },
     "execution_count": 245,
     "metadata": {},
     "output_type": "execute_result"
    }
   ],
   "source": [
    "noc.sample(5)"
   ]
  },
  {
   "cell_type": "markdown",
   "metadata": {},
   "source": [
    "##### Preview Olympics Results dataset:"
   ]
  },
  {
   "cell_type": "code",
   "execution_count": 246,
   "metadata": {},
   "outputs": [
    {
     "data": {
      "text/html": [
       "<div>\n",
       "<style scoped>\n",
       "    .dataframe tbody tr th:only-of-type {\n",
       "        vertical-align: middle;\n",
       "    }\n",
       "\n",
       "    .dataframe tbody tr th {\n",
       "        vertical-align: top;\n",
       "    }\n",
       "\n",
       "    .dataframe thead th {\n",
       "        text-align: right;\n",
       "    }\n",
       "</style>\n",
       "<table border=\"1\" class=\"dataframe\">\n",
       "  <thead>\n",
       "    <tr style=\"text-align: right;\">\n",
       "      <th></th>\n",
       "      <th>year</th>\n",
       "      <th>type</th>\n",
       "      <th>discipline</th>\n",
       "      <th>event</th>\n",
       "      <th>as</th>\n",
       "      <th>athlete_id</th>\n",
       "      <th>noc</th>\n",
       "      <th>team</th>\n",
       "      <th>place</th>\n",
       "      <th>tied</th>\n",
       "      <th>medal</th>\n",
       "    </tr>\n",
       "  </thead>\n",
       "  <tbody>\n",
       "    <tr>\n",
       "      <th>121053</th>\n",
       "      <td>1984.0</td>\n",
       "      <td>Summer</td>\n",
       "      <td>Weightlifting</td>\n",
       "      <td>Flyweight, Men (Olympic)</td>\n",
       "      <td>Zeng Guoqiang</td>\n",
       "      <td>55403</td>\n",
       "      <td>CHN</td>\n",
       "      <td>NaN</td>\n",
       "      <td>1.0</td>\n",
       "      <td>False</td>\n",
       "      <td>Gold</td>\n",
       "    </tr>\n",
       "    <tr>\n",
       "      <th>137808</th>\n",
       "      <td>1924.0</td>\n",
       "      <td>Summer</td>\n",
       "      <td>Athletics</td>\n",
       "      <td>200 metres, Men (Olympic)</td>\n",
       "      <td>Cyril Coaffee</td>\n",
       "      <td>65997</td>\n",
       "      <td>CAN</td>\n",
       "      <td>NaN</td>\n",
       "      <td>6.0</td>\n",
       "      <td>False</td>\n",
       "      <td>NaN</td>\n",
       "    </tr>\n",
       "    <tr>\n",
       "      <th>101069</th>\n",
       "      <td>1952.0</td>\n",
       "      <td>Summer</td>\n",
       "      <td>Swimming (Aquatics)</td>\n",
       "      <td>100 metres Backstroke, Women (Olympic)</td>\n",
       "      <td>Anneli Haaranen</td>\n",
       "      <td>46601</td>\n",
       "      <td>FIN</td>\n",
       "      <td>NaN</td>\n",
       "      <td>15.0</td>\n",
       "      <td>False</td>\n",
       "      <td>NaN</td>\n",
       "    </tr>\n",
       "    <tr>\n",
       "      <th>105271</th>\n",
       "      <td>2000.0</td>\n",
       "      <td>Summer</td>\n",
       "      <td>Diving (Aquatics)</td>\n",
       "      <td>Springboard, Women (Olympic)</td>\n",
       "      <td>Orsolya Pintér</td>\n",
       "      <td>48129</td>\n",
       "      <td>HUN</td>\n",
       "      <td>NaN</td>\n",
       "      <td>25.0</td>\n",
       "      <td>False</td>\n",
       "      <td>NaN</td>\n",
       "    </tr>\n",
       "    <tr>\n",
       "      <th>132309</th>\n",
       "      <td>1996.0</td>\n",
       "      <td>Summer</td>\n",
       "      <td>Sailing</td>\n",
       "      <td>Two Person Dinghy, Men (Olympic)</td>\n",
       "      <td>Zsolt Nyári</td>\n",
       "      <td>63152</td>\n",
       "      <td>HUN</td>\n",
       "      <td>Botond Litkey</td>\n",
       "      <td>21.0</td>\n",
       "      <td>False</td>\n",
       "      <td>NaN</td>\n",
       "    </tr>\n",
       "  </tbody>\n",
       "</table>\n",
       "</div>"
      ],
      "text/plain": [
       "          year    type           discipline  \\\n",
       "121053  1984.0  Summer        Weightlifting   \n",
       "137808  1924.0  Summer            Athletics   \n",
       "101069  1952.0  Summer  Swimming (Aquatics)   \n",
       "105271  2000.0  Summer    Diving (Aquatics)   \n",
       "132309  1996.0  Summer              Sailing   \n",
       "\n",
       "                                         event               as  athlete_id  \\\n",
       "121053                Flyweight, Men (Olympic)    Zeng Guoqiang       55403   \n",
       "137808               200 metres, Men (Olympic)    Cyril Coaffee       65997   \n",
       "101069  100 metres Backstroke, Women (Olympic)  Anneli Haaranen       46601   \n",
       "105271            Springboard, Women (Olympic)   Orsolya Pintér       48129   \n",
       "132309        Two Person Dinghy, Men (Olympic)      Zsolt Nyári       63152   \n",
       "\n",
       "        noc           team  place   tied medal  \n",
       "121053  CHN            NaN    1.0  False  Gold  \n",
       "137808  CAN            NaN    6.0  False   NaN  \n",
       "101069  FIN            NaN   15.0  False   NaN  \n",
       "105271  HUN            NaN   25.0  False   NaN  \n",
       "132309  HUN  Botond Litkey   21.0  False   NaN  "
      ]
     },
     "execution_count": 246,
     "metadata": {},
     "output_type": "execute_result"
    }
   ],
   "source": [
    "olympics_results.sample(5)"
   ]
  },
  {
   "cell_type": "markdown",
   "metadata": {},
   "source": [
    "#### I. Filipino Sporting Triumphs\n",
    "\n",
    "The Filipino Olympic Committee has commissioned our agency to highlight their athletic achievements since the turn of the millennium. Your task is to compile a list of unique sports disciplines where Pinoy athletes have left their mark since the year 2000. Moreover, which amongst these sports disciplines did they produce promising results in (i.e bagged any type of medals)?"
   ]
  },
  {
   "cell_type": "code",
   "execution_count": 247,
   "metadata": {},
   "outputs": [],
   "source": [
    "# Write your code here"
   ]
  },
  {
   "cell_type": "markdown",
   "metadata": {},
   "source": [
    "#### II. The Big Five\n",
    "\n",
    "Sports journalists are crafting a new magazine that features __*\"The Big Five\"*__. They reached out your team seeking information on the global power rankings in Olympic history. What are the top 5 countries that bagged the most Gold medals?"
   ]
  },
  {
   "cell_type": "code",
   "execution_count": 248,
   "metadata": {},
   "outputs": [],
   "source": [
    "# Write your code here"
   ]
  },
  {
   "cell_type": "markdown",
   "metadata": {},
   "source": [
    "#### III. BMI Influence in Medal Success\n",
    "\n",
    "General coaching staff from various professional athelete management firms seek to understand correlation of body composition and performance outcome in a given field of sports. Your team was asked to provide data on the average BMI of gold medalists per discipline.\n",
    "\n",
    "##### BMI formula\n",
    "\n",
    "<img src=\"images/bmi_formula.png\" alt=\"BMI Formula\" width=\"500\" />\n",
    "\n",
    "##### Standard BMI classification\n",
    "\n",
    "<img src=\"images/bmi_class.png\" alt=\"BMI Formula\" width=\"500\" />"
   ]
  },
  {
   "cell_type": "code",
   "execution_count": 249,
   "metadata": {},
   "outputs": [],
   "source": [
    "# Write your code here"
   ]
  }
 ],
 "metadata": {
  "kernelspec": {
   "display_name": "venv",
   "language": "python",
   "name": "python3"
  },
  "language_info": {
   "codemirror_mode": {
    "name": "ipython",
    "version": 3
   },
   "file_extension": ".py",
   "mimetype": "text/x-python",
   "name": "python",
   "nbconvert_exporter": "python",
   "pygments_lexer": "ipython3",
   "version": "3.11.0rc1"
  }
 },
 "nbformat": 4,
 "nbformat_minor": 2
}
