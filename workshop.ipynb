{
 "cells": [
  {
   "cell_type": "markdown",
   "metadata": {},
   "source": [
    "## Technical Workshop\n",
    "\n",
    "- Team up and apply the concepts that you have learned in pandas to access, manipulate and analyze data\n",
    "- Tinker around with the dataset to answer a series of questions\n",
    "- Save your group notebook and submit with the following format: `workshop_group_<#>.ipynb`\n",
    "- Duration: 1 hour"
   ]
  },
  {
   "cell_type": "markdown",
   "metadata": {},
   "source": [
    "### Olympics Agency\n",
    "\n",
    "You and your teammates are working in the Data Science department of a renowned Sports Agency that primarily focuses on the Olympics. Consultants and journalists reach out to your team for key insights to fulfill their upcoming prints and marketing stints.\n",
    "\n",
    "Thankfully you have access to the relevant dataset, and of course your newly acquired Python Pandas skills.\n",
    "\n",
    "<img src=\"images/olympics_logo.png\" alt=\"BMI Formula\" width=\"500\" />"
   ]
  },
  {
   "cell_type": "markdown",
   "metadata": {},
   "source": [
    "#### Available Datasets\n",
    "\n",
    "| **Dataset**      | **Notes**      |\n",
    "| ------------- | ------------- |\n",
    "| [olympics_bios.csv](data/olympics_bios.csv) | Contains basic biographical data of Olympians since 1960s |\n",
    "| [noc_regions.csv](data/noc_regions.csv) | Contains records of National Olympic Committees |\n",
    "| [olympics_results.csv](data/olympics_results.csv) | Contains all records of Olympic events and the corresponding results |"
   ]
  },
  {
   "cell_type": "code",
   "execution_count": null,
   "metadata": {},
   "outputs": [],
   "source": [
    "import pandas as pd\n",
    "\n",
    "olympics_bios = pd.read_csv('./data/olympics_bios.csv')\n",
    "noc = pd.read_csv('./data/noc_regions.csv')\n",
    "olympics_results = pd.read_csv('./data/olympics_results.csv')"
   ]
  },
  {
   "cell_type": "markdown",
   "metadata": {},
   "source": [
    "##### Preview Olympics Biography dataset:"
   ]
  },
  {
   "cell_type": "code",
   "execution_count": null,
   "metadata": {},
   "outputs": [],
   "source": [
    "olympics_bios.sample(5)"
   ]
  },
  {
   "cell_type": "markdown",
   "metadata": {},
   "source": [
    "##### Preview NOC Region dataset:"
   ]
  },
  {
   "cell_type": "code",
   "execution_count": null,
   "metadata": {},
   "outputs": [],
   "source": [
    "noc.sample(5)"
   ]
  },
  {
   "cell_type": "markdown",
   "metadata": {},
   "source": [
    "##### Preview Olympics Results dataset:"
   ]
  },
  {
   "cell_type": "code",
   "execution_count": null,
   "metadata": {},
   "outputs": [],
   "source": [
    "olympics_results.sample(5)"
   ]
  },
  {
   "cell_type": "markdown",
   "metadata": {},
   "source": [
    "#### I. Filipino Sporting Triumphs\n",
    "\n",
    "The Filipino Olympic Committee has commissioned our agency to highlight their athletic achievements since the turn of the millennium. Your task is to compile a list of unique sports disciplines where Pinoy athletes have left their mark since the year 2000. Moreover, which amongst these sports disciplines did they produce promising results in (i.e bagged any type of medals)?"
   ]
  },
  {
   "cell_type": "code",
   "execution_count": null,
   "metadata": {},
   "outputs": [],
   "source": [
    "# Start wrangling here"
   ]
  },
  {
   "cell_type": "markdown",
   "metadata": {},
   "source": [
    "#### II. The Big Five\n",
    "\n",
    "Sports journalists are crafting a new magazine that features __*\"The Big Five\"*__. They reached out to your team seeking information on the global power rankings throughout the entire Olympic history. What are the top 5 countries that bagged the most Gold medals?"
   ]
  },
  {
   "cell_type": "code",
   "execution_count": null,
   "metadata": {},
   "outputs": [],
   "source": [
    "# Start wrangling here"
   ]
  },
  {
   "cell_type": "markdown",
   "metadata": {},
   "source": [
    "#### III. BMI Influence in Medal Success\n",
    "\n",
    "General coaching staff from various professional athelete management firms seek to understand correlation of body composition and performance outcome in a given field of sports. Your team was asked to provide data on the average BMI class of gold medalists per sports discipline.\n",
    "\n",
    "##### BMI formula\n",
    "\n",
    "<img src=\"images/bmi_formula.png\" alt=\"BMI Formula\" width=\"500\" />\n",
    "\n",
    "##### Standard BMI classification\n",
    "\n",
    "<img src=\"images/bmi_class.png\" alt=\"BMI Classification\" width=\"500\" />"
   ]
  },
  {
   "cell_type": "code",
   "execution_count": null,
   "metadata": {},
   "outputs": [],
   "source": [
    "# Start wrangling here"
   ]
  }
 ],
 "metadata": {
  "kernelspec": {
   "display_name": "venv",
   "language": "python",
   "name": "python3"
  },
  "language_info": {
   "codemirror_mode": {
    "name": "ipython",
    "version": 3
   },
   "file_extension": ".py",
   "mimetype": "text/x-python",
   "name": "python",
   "nbconvert_exporter": "python",
   "pygments_lexer": "ipython3",
   "version": "3.11.0rc1"
  }
 },
 "nbformat": 4,
 "nbformat_minor": 2
}
